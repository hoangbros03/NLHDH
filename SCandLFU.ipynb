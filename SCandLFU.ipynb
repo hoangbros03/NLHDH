{
  "cells": [
    {
      "cell_type": "code",
      "source": [
        "class SecondChance:\n",
        "    def __init__(self, frame_size):\n",
        "        self.frame_size = frame_size\n",
        "        self.frames = []\n",
        "        self.reference_bit = []\n",
        "        self.pointer = 0\n",
        "    def refer(self, page):\n",
        "        if page in self.frames:\n",
        "            # If the page is already in frames, set its reference bit to 1\n",
        "            index = self.frames.index(page)\n",
        "            self.reference_bit[index] = 1\n",
        "            print(f\"-\", end=\" \")\n",
        "        else:\n",
        "            if len(self.frames) < self.frame_size:\n",
        "                # If there is space in frames, add the page and set its reference bit to 1\n",
        "                self.frames.append(page)\n",
        "                self.reference_bit.append(0)\n",
        "                print(f\"F\", end=\" \")\n",
        "            else:\n",
        "                # If there is no space in frames, find the page with reference bit 0\n",
        "                found = False\n",
        "                while not found:\n",
        "                    for i in range(len(self.frames)):\n",
        "                        i = (i + self.pointer)%len(self.frames)\n",
        "                        if self.reference_bit[i] == 0:\n",
        "                            self.frames[i] = page\n",
        "                            self.reference_bit[i] = 0\n",
        "                            found = True\n",
        "                            print(f\"F\", end=\" \")\n",
        "                            self.pointer = i+1\n",
        "                            break\n",
        "                        else:\n",
        "                            self.reference_bit[i] = 0\n",
        "\n",
        "    def display_frames(self):\n",
        "        for i in range(len(self.frames)):\n",
        "            print(f\"{self.frames[i]}_{self.reference_bit[i]} \", end='')\n",
        "\n"
      ],
      "metadata": {
        "id": "0IKdt_c2BkHW"
      },
      "execution_count": null,
      "outputs": []
    },
    {
      "cell_type": "code",
      "source": [
        "# Example usage:\n",
        "frame_size = 4\n",
        "pages = \"1 2 3 2 3 4 5 6 4 7 8 4 7 5 2 1 3 4 5 6 3 4 5 6\".split(\" \")\n",
        "\n",
        "sc = SecondChance(frame_size)\n",
        "\n",
        "for page in pages:\n",
        "    sc.refer(page)\n",
        "    sc.display_frames()\n",
        "    print()"
      ],
      "metadata": {
        "id": "FzfbKDcZBnSv",
        "outputId": "f120c0c0-b98d-49c2-c3ed-a314070725fa",
        "colab": {
          "base_uri": "https://localhost:8080/"
        }
      },
      "execution_count": null,
      "outputs": [
        {
          "output_type": "stream",
          "name": "stdout",
          "text": [
            "F 1_0 \n",
            "F 1_0 2_0 \n",
            "F 1_0 2_0 3_0 \n",
            "- 1_0 2_1 3_0 \n",
            "- 1_0 2_1 3_1 \n",
            "F 1_0 2_1 3_1 4_0 \n",
            "F 5_0 2_1 3_1 4_0 \n",
            "F 5_0 2_0 3_0 6_0 \n",
            "F 4_0 2_0 3_0 6_0 \n",
            "F 4_0 7_0 3_0 6_0 \n",
            "F 4_0 7_0 8_0 6_0 \n",
            "- 4_1 7_0 8_0 6_0 \n",
            "- 4_1 7_1 8_0 6_0 \n",
            "F 4_1 7_1 8_0 5_0 \n",
            "F 4_0 7_0 2_0 5_0 \n",
            "F 4_0 7_0 2_0 1_0 \n",
            "F 3_0 7_0 2_0 1_0 \n",
            "F 3_0 4_0 2_0 1_0 \n",
            "F 3_0 4_0 5_0 1_0 \n",
            "F 3_0 4_0 5_0 6_0 \n",
            "- 3_1 4_0 5_0 6_0 \n",
            "- 3_1 4_1 5_0 6_0 \n",
            "- 3_1 4_1 5_1 6_0 \n",
            "- 3_1 4_1 5_1 6_1 \n"
          ]
        }
      ]
    },
    {
      "cell_type": "code",
      "source": [
        "class LFU:\n",
        "    def __init__(self, frame_size):\n",
        "        self.frame_size = frame_size\n",
        "        self.frames = []\n",
        "        self.reference_bit = []\n",
        "        self.pointer = 0\n",
        "    def refer(self, page):\n",
        "        if page in self.frames:\n",
        "            # If the page is already in frames, set its reference bit to 1\n",
        "            index = self.frames.index(page)\n",
        "            self.reference_bit[index] +=1\n",
        "            print(f\"-\", end=\" \")\n",
        "        else:\n",
        "            if len(self.frames) < self.frame_size:\n",
        "                # If there is space in frames, add the page and set its reference bit to 1\n",
        "                self.frames.append(page)\n",
        "                self.reference_bit.append(1)\n",
        "                print(f\"F\", end=\" \")\n",
        "            else:\n",
        "                # If there is no space in frames, find the page with reference bit 0\n",
        "                found = False\n",
        "                min_frq = 999\n",
        "                min_idx = 0\n",
        "                for i in range(len(self.frames)):\n",
        "                    i = (i + self.pointer)%len(self.frames)\n",
        "                    if self.reference_bit[i] < min_frq:\n",
        "                        min_frq = self.reference_bit[i]\n",
        "                        min_idx = i\n",
        "                self.frames[min_idx] = page\n",
        "                self.reference_bit[min_idx] = 1\n",
        "                print(f\"F\", end=\" \")\n",
        "                self.pointer = min_idx+1\n",
        "\n",
        "    def display_frames(self):\n",
        "        for i in range(len(self.frames)):\n",
        "            print(f\"{self.frames[i]}_{self.reference_bit[i]} \", end='')\n",
        "\n"
      ],
      "metadata": {
        "id": "DP7Q8mpMBpEI"
      },
      "execution_count": 1,
      "outputs": []
    },
    {
      "cell_type": "code",
      "source": [
        "# Example usage:\n",
        "frame_size = 4\n",
        "pages = \"1 2 3 2 3 4 5 6 4 7 8 4 7 5 2 1 3 4 5 6 3 4 5 6\".split(\" \")\n",
        "\n",
        "lfu = LFU(frame_size)\n",
        "\n",
        "for page in pages:\n",
        "    lfu.refer(page)\n",
        "    lfu.display_frames()\n",
        "    print()"
      ],
      "metadata": {
        "colab": {
          "base_uri": "https://localhost:8080/"
        },
        "id": "eHDtPhkhFjwr",
        "outputId": "9491e077-3aad-4871-c24e-efa44698cf89"
      },
      "execution_count": 2,
      "outputs": [
        {
          "output_type": "stream",
          "name": "stdout",
          "text": [
            "F 1_1 \n",
            "F 1_1 2_1 \n",
            "F 1_1 2_1 3_1 \n",
            "- 1_1 2_2 3_1 \n",
            "- 1_1 2_2 3_2 \n",
            "F 1_1 2_2 3_2 4_1 \n",
            "F 5_1 2_2 3_2 4_1 \n",
            "F 5_1 2_2 3_2 6_1 \n",
            "F 4_1 2_2 3_2 6_1 \n",
            "F 4_1 2_2 3_2 7_1 \n",
            "F 8_1 2_2 3_2 7_1 \n",
            "F 8_1 2_2 3_2 4_1 \n",
            "F 7_1 2_2 3_2 4_1 \n",
            "F 7_1 2_2 3_2 5_1 \n",
            "- 7_1 2_3 3_2 5_1 \n",
            "F 1_1 2_3 3_2 5_1 \n",
            "- 1_1 2_3 3_3 5_1 \n",
            "F 1_1 2_3 3_3 4_1 \n",
            "F 5_1 2_3 3_3 4_1 \n",
            "F 5_1 2_3 3_3 6_1 \n",
            "- 5_1 2_3 3_4 6_1 \n",
            "F 4_1 2_3 3_4 6_1 \n",
            "F 4_1 2_3 3_4 5_1 \n",
            "F 6_1 2_3 3_4 5_1 \n"
          ]
        }
      ]
    },
    {
      "cell_type": "code",
      "source": [],
      "metadata": {
        "id": "TLKUKtZ5F0uy"
      },
      "execution_count": null,
      "outputs": []
    }
  ],
  "metadata": {
    "colab": {
      "toc_visible": true,
      "provenance": []
    },
    "kernelspec": {
      "display_name": "Python 3",
      "name": "python3"
    }
  },
  "nbformat": 4,
  "nbformat_minor": 0
}