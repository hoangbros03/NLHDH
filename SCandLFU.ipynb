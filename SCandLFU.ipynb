{
  "cells": [
    {
      "cell_type": "markdown",
      "metadata": {
        "id": "view-in-github",
        "colab_type": "text"
      },
      "source": [
        "<a href=\"https://colab.research.google.com/github/hoangbros03/NLHDH/blob/main/SCandLFU.ipynb\" target=\"_parent\"><img src=\"https://colab.research.google.com/assets/colab-badge.svg\" alt=\"Open In Colab\"/></a>"
      ]
    },
    {
      "cell_type": "code",
      "source": [
        "class SecondChance:\n",
        "    def __init__(self, frame_size):\n",
        "        self.frame_size = frame_size\n",
        "        self.frames = []\n",
        "        self.reference_bit = []\n",
        "        self.pointer = 0\n",
        "    def refer(self, page):\n",
        "        if page in self.frames:\n",
        "            # If the page is already in frames, set its reference bit to 1\n",
        "            index = self.frames.index(page)\n",
        "            self.reference_bit[index] = 1\n",
        "            print(f\"-\", end=\" \")\n",
        "        else:\n",
        "            if len(self.frames) < self.frame_size:\n",
        "                # If there is space in frames, add the page and set its reference bit to 1\n",
        "                self.frames.append(page)\n",
        "                self.reference_bit.append(0)\n",
        "                print(f\"F\", end=\" \")\n",
        "            else:\n",
        "                # If there is no space in frames, find the page with reference bit 0\n",
        "                found = False\n",
        "                while not found:\n",
        "                    for i in range(len(self.frames)):\n",
        "                        i = (i + self.pointer)%len(self.frames)\n",
        "                        if self.reference_bit[i] == 0:\n",
        "                            print(f\"F {self.frames[i]}| \", end=\" \")\n",
        "                            self.frames[i] = page\n",
        "                            self.reference_bit[i] = 0\n",
        "                            found = True\n",
        "                            self.pointer = i+1\n",
        "                            break\n",
        "                        else:\n",
        "                            self.reference_bit[i] = 0\n",
        "\n",
        "    def display_frames(self):\n",
        "        for i in range(len(self.frames)):\n",
        "            print(f\"{self.frames[i]}_{self.reference_bit[i]} \", end='')\n",
        "\n"
      ],
      "metadata": {
        "id": "0IKdt_c2BkHW"
      },
      "execution_count": 9,
      "outputs": []
    },
    {
      "cell_type": "code",
      "source": [
        "# Example usage:\n",
        "frame_size = 5\n",
        "pages = \"1 2 3 2 3 4 5 6 4 7 8 4 7 5 2 1 3 4 5 6 3 4 5 6\".split(\" \")\n",
        "\n",
        "sc = SecondChance(frame_size)\n",
        "\n",
        "for page in pages:\n",
        "    sc.refer(page)\n",
        "    sc.display_frames()\n",
        "    print()"
      ],
      "metadata": {
        "id": "FzfbKDcZBnSv",
        "outputId": "1f41c947-6432-4da2-e3e8-57d24cae442f",
        "colab": {
          "base_uri": "https://localhost:8080/"
        }
      },
      "execution_count": 11,
      "outputs": [
        {
          "output_type": "stream",
          "name": "stdout",
          "text": [
            "F 1_0 \n",
            "F 1_0 2_0 \n",
            "F 1_0 2_0 3_0 \n",
            "- 1_0 2_1 3_0 \n",
            "- 1_0 2_1 3_1 \n",
            "F 1_0 2_1 3_1 4_0 \n",
            "F 1_0 2_1 3_1 4_0 5_0 \n",
            "F 1|  6_0 2_1 3_1 4_0 5_0 \n",
            "- 6_0 2_1 3_1 4_1 5_0 \n",
            "F 5|  6_0 2_0 3_0 4_0 7_0 \n",
            "F 6|  8_0 2_0 3_0 4_0 7_0 \n",
            "- 8_0 2_0 3_0 4_1 7_0 \n",
            "- 8_0 2_0 3_0 4_1 7_1 \n",
            "F 2|  8_0 5_0 3_0 4_1 7_1 \n",
            "F 3|  8_0 5_0 2_0 4_1 7_1 \n",
            "F 8|  1_0 5_0 2_0 4_0 7_0 \n",
            "F 5|  1_0 3_0 2_0 4_0 7_0 \n",
            "- 1_0 3_0 2_0 4_1 7_0 \n",
            "F 2|  1_0 3_0 5_0 4_1 7_0 \n",
            "F 7|  1_0 3_0 5_0 4_0 6_0 \n",
            "- 1_0 3_1 5_0 4_0 6_0 \n",
            "- 1_0 3_1 5_0 4_1 6_0 \n",
            "- 1_0 3_1 5_1 4_1 6_0 \n",
            "- 1_0 3_1 5_1 4_1 6_1 \n"
          ]
        }
      ]
    },
    {
      "cell_type": "code",
      "source": [
        "class LFU:\n",
        "    def __init__(self, frame_size):\n",
        "        self.frame_size = frame_size\n",
        "        self.frames = []\n",
        "        self.reference_bit = []\n",
        "        self.pointer = 0\n",
        "    def refer(self, page):\n",
        "        if page in self.frames:\n",
        "            # If the page is already in frames, set its reference bit to 1\n",
        "            index = self.frames.index(page)\n",
        "            self.reference_bit[index] +=1\n",
        "            print(f\"-\", end=\" \")\n",
        "        else:\n",
        "            if len(self.frames) < self.frame_size:\n",
        "                # If there is space in frames, add the page and set its reference bit to 1\n",
        "                self.frames.append(page)\n",
        "                self.reference_bit.append(1)\n",
        "                print(f\"F\", end=\" \")\n",
        "            else:\n",
        "                # If there is no space in frames, find the page with reference bit 0\n",
        "                found = False\n",
        "                min_frq = 999\n",
        "                min_idx = 0\n",
        "                for i in range(len(self.frames)):\n",
        "                    i = (i + self.pointer)%len(self.frames)\n",
        "                    if self.reference_bit[i] < min_frq:\n",
        "                        min_frq = self.reference_bit[i]\n",
        "                        min_idx = i\n",
        "                print(f\"F {self.frames[min_idx]}|\", end=\" \")\n",
        "                self.frames[min_idx] = page\n",
        "                self.reference_bit[min_idx] = 1\n",
        "                self.pointer = min_idx+1\n",
        "\n",
        "    def display_frames(self):\n",
        "        for i in range(len(self.frames)):\n",
        "            print(f\"{self.frames[i]}_{self.reference_bit[i]} \", end='')\n",
        "\n"
      ],
      "metadata": {
        "id": "DP7Q8mpMBpEI"
      },
      "execution_count": 8,
      "outputs": []
    },
    {
      "cell_type": "code",
      "source": [
        "# Example usage:\n",
        "frame_size = 5\n",
        "pages = \"1 2 3 2 3 4 5 6 4 7 8 4 7 5 2 1 3 4 5 6 3 4 5 6\".split(\" \")\n",
        "\n",
        "lfu = LFU(frame_size)\n",
        "\n",
        "for page in pages:\n",
        "    lfu.refer(page)\n",
        "    lfu.display_frames()\n",
        "    print()"
      ],
      "metadata": {
        "colab": {
          "base_uri": "https://localhost:8080/"
        },
        "id": "eHDtPhkhFjwr",
        "outputId": "71b7472b-a3f7-4048-f307-0c9ed02f4a97"
      },
      "execution_count": 10,
      "outputs": [
        {
          "output_type": "stream",
          "name": "stdout",
          "text": [
            "F 1_1 \n",
            "F 1_1 2_1 \n",
            "F 1_1 2_1 3_1 \n",
            "- 1_1 2_2 3_1 \n",
            "- 1_1 2_2 3_2 \n",
            "F 1_1 2_2 3_2 4_1 \n",
            "F 1_1 2_2 3_2 4_1 5_1 \n",
            "F 1| 6_1 2_2 3_2 4_1 5_1 \n",
            "- 6_1 2_2 3_2 4_2 5_1 \n",
            "F 5| 6_1 2_2 3_2 4_2 7_1 \n",
            "F 6| 8_1 2_2 3_2 4_2 7_1 \n",
            "- 8_1 2_2 3_2 4_3 7_1 \n",
            "- 8_1 2_2 3_2 4_3 7_2 \n",
            "F 8| 5_1 2_2 3_2 4_3 7_2 \n",
            "- 5_1 2_3 3_2 4_3 7_2 \n",
            "F 5| 1_1 2_3 3_2 4_3 7_2 \n",
            "- 1_1 2_3 3_3 4_3 7_2 \n",
            "- 1_1 2_3 3_3 4_4 7_2 \n",
            "F 1| 5_1 2_3 3_3 4_4 7_2 \n",
            "F 5| 6_1 2_3 3_3 4_4 7_2 \n",
            "- 6_1 2_3 3_4 4_4 7_2 \n",
            "- 6_1 2_3 3_4 4_5 7_2 \n",
            "F 6| 5_1 2_3 3_4 4_5 7_2 \n",
            "F 5| 6_1 2_3 3_4 4_5 7_2 \n"
          ]
        }
      ]
    },
    {
      "cell_type": "code",
      "source": [],
      "metadata": {
        "id": "TLKUKtZ5F0uy"
      },
      "execution_count": null,
      "outputs": []
    }
  ],
  "metadata": {
    "colab": {
      "toc_visible": true,
      "provenance": [],
      "include_colab_link": true
    },
    "kernelspec": {
      "display_name": "Python 3",
      "name": "python3"
    }
  },
  "nbformat": 4,
  "nbformat_minor": 0
}