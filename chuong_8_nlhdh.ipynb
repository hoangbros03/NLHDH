{
  "cells": [
    {
      "cell_type": "code",
      "source": [
        "example = \"47-14-82-198-237-7-319-192-71-281-194\"\n",
        "example = example.replace(\"–\", \"-\")\n",
        "l = example.split(\"-\")\n",
        "print(l)\n",
        "print(sum([abs(int(l[i]) - int(l[i-1])) for i in range(1, len(l))]))"
      ],
      "metadata": {
        "id": "Dim_vE790pyj",
        "outputId": "a59c9a26-ad7f-4642-e643-bd536404266c",
        "colab": {
          "base_uri": "https://localhost:8080/"
        }
      },
      "execution_count": null,
      "outputs": [
        {
          "output_type": "stream",
          "name": "stdout",
          "text": [
            "['47', '14', '82', '198', '237', '7', '319', '192', '71', '281', '194']\n",
            "1343\n"
          ]
        }
      ]
    },
    {
      "cell_type": "code",
      "source": [
        "l = \"87, 312, 147, 64, 212, 15, 89, 5, 128, 192, 50\"\n",
        "sorted([int(i) for i in l.split(\", \")])"
      ],
      "metadata": {
        "id": "GsVmMOQ30v34",
        "outputId": "af57c591-b776-44d8-a6e0-970051167d23",
        "colab": {
          "base_uri": "https://localhost:8080/"
        }
      },
      "execution_count": null,
      "outputs": [
        {
          "output_type": "execute_result",
          "data": {
            "text/plain": [
              "[5, 15, 50, 64, 87, 89, 128, 147, 192, 212, 312]"
            ]
          },
          "metadata": {},
          "execution_count": 5
        }
      ]
    },
    {
      "cell_type": "markdown",
      "source": [
        "SSTF"
      ],
      "metadata": {
        "id": "qfk-Ufcw4Cck"
      }
    },
    {
      "cell_type": "code",
      "source": [
        "!echo \"ok\""
      ],
      "metadata": {
        "id": "7Wso1b1X6I5_",
        "outputId": "f8f03c35-955a-47f8-c070-cc6b04d82aa1",
        "colab": {
          "base_uri": "https://localhost:8080/"
        }
      },
      "execution_count": null,
      "outputs": [
        {
          "output_type": "stream",
          "name": "stdout",
          "text": [
            "ok\n"
          ]
        }
      ]
    },
    {
      "cell_type": "code",
      "source": [
        "l = \"14, 82, 198, 237, 7, 319, 192, 71, 281, 194, 47\"\n",
        "l = sorted([int(i) for i in l.split(\", \")])\n",
        "cr = 47\n",
        "asc = False\n",
        "re = [cr]\n",
        "while max(l) > 0:\n",
        "    m = 9999\n",
        "    mi = -1\n",
        "    t = [abs(cr-i) for i in l]\n",
        "    for i in range(len(t)):\n",
        "        if t[i] < m:\n",
        "            m= t[i]\n",
        "            mi = i\n",
        "        elif t[i] == m:\n",
        "            if asc:\n",
        "                mi = i\n",
        "    re.append(l[mi])\n",
        "    l[mi] = -9999\n",
        "    cr = re[-1]\n",
        "print(\"-\".join([str(i) for i in re]))\n",
        "print(sum([abs(int(re[i]) - int(re[i-1])) for i in range(1, len(re))]))"
      ],
      "metadata": {
        "id": "7jzbXhXd094f",
        "outputId": "1537cd5c-444d-4695-c1f6-76ee68bf506c",
        "colab": {
          "base_uri": "https://localhost:8080/"
        }
      },
      "execution_count": null,
      "outputs": [
        {
          "output_type": "stream",
          "name": "stdout",
          "text": [
            "47-47-71-82-14-7-192-194-198-237-281-319\n",
            "422\n"
          ]
        }
      ]
    },
    {
      "cell_type": "code",
      "source": [],
      "metadata": {
        "id": "G2BthHHn5X4n"
      },
      "execution_count": null,
      "outputs": []
    }
  ],
  "metadata": {
    "colab": {
      "toc_visible": true,
      "provenance": []
    },
    "kernelspec": {
      "display_name": "Python 3",
      "name": "python3"
    }
  },
  "nbformat": 4,
  "nbformat_minor": 0
}